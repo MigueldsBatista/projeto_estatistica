{
 "cells": [
  {
   "cell_type": "markdown",
   "metadata": {},
   "source": [
    "IMPORT ALL DEPENDENCIES AND SETUP DATABASE PATH"
   ]
  },
  {
   "cell_type": "code",
   "execution_count": 15,
   "metadata": {},
   "outputs": [
    {
     "name": "stdout",
     "output_type": "stream",
     "text": [
      "Arquivos no diretório: ['netflix_users.csv']\n",
      "Arquivo CSV lido com sucesso!\n"
     ]
    },
    {
     "data": {
      "application/vnd.microsoft.datawrangler.viewer.v0+json": {
       "columns": [
        {
         "name": "index",
         "rawType": "int64",
         "type": "integer"
        },
        {
         "name": "User_ID",
         "rawType": "int64",
         "type": "integer"
        },
        {
         "name": "Name",
         "rawType": "object",
         "type": "string"
        },
        {
         "name": "Age",
         "rawType": "int64",
         "type": "integer"
        },
        {
         "name": "Country",
         "rawType": "object",
         "type": "string"
        },
        {
         "name": "Subscription_Type",
         "rawType": "object",
         "type": "string"
        },
        {
         "name": "Watch_Time_Hours",
         "rawType": "float64",
         "type": "float"
        },
        {
         "name": "Favorite_Genre",
         "rawType": "object",
         "type": "string"
        },
        {
         "name": "Last_Login",
         "rawType": "object",
         "type": "string"
        }
       ],
       "conversionMethod": "pd.DataFrame",
       "ref": "33f1b3df-9e0e-416e-a0a3-e408808cbe9c",
       "rows": [
        [
         "0",
         "1",
         "James Martinez",
         "18",
         "France",
         "Premium",
         "80.26",
         "Drama",
         "2024-05-12"
        ],
        [
         "1",
         "2",
         "John Miller",
         "23",
         "USA",
         "Premium",
         "321.75",
         "Sci-Fi",
         "2025-02-05"
        ],
        [
         "2",
         "3",
         "Emma Davis",
         "60",
         "UK",
         "Basic",
         "35.89",
         "Comedy",
         "2025-01-24"
        ],
        [
         "3",
         "4",
         "Emma Miller",
         "44",
         "USA",
         "Premium",
         "261.56",
         "Documentary",
         "2024-03-25"
        ],
        [
         "4",
         "5",
         "Jane Smith",
         "68",
         "USA",
         "Standard",
         "909.3",
         "Drama",
         "2025-01-14"
        ],
        [
         "5",
         "6",
         "David Johnson",
         "21",
         "USA",
         "Standard",
         "615.93",
         "Romance",
         "2025-02-03"
        ],
        [
         "6",
         "7",
         "John Hernandez",
         "57",
         "Canada",
         "Standard",
         "755.47",
         "Romance",
         "2025-01-05"
        ],
        [
         "7",
         "8",
         "Katie Hernandez",
         "68",
         "USA",
         "Standard",
         "145.23",
         "Sci-Fi",
         "2024-10-30"
        ],
        [
         "8",
         "9",
         "James Williams",
         "39",
         "UK",
         "Basic",
         "950.14",
         "Action",
         "2024-04-16"
        ],
        [
         "9",
         "10",
         "Alex Davis",
         "55",
         "Mexico",
         "Standard",
         "696.66",
         "Horror",
         "2024-07-03"
        ],
        [
         "10",
         "11",
         "Jane Miller",
         "26",
         "Japan",
         "Standard",
         "290.31",
         "Action",
         "2024-09-11"
        ],
        [
         "11",
         "12",
         "Jane Martinez",
         "62",
         "USA",
         "Standard",
         "490.39",
         "Action",
         "2024-06-12"
        ],
        [
         "12",
         "13",
         "Alex Martinez",
         "65",
         "Australia",
         "Premium",
         "712.23",
         "Comedy",
         "2024-08-08"
        ],
        [
         "13",
         "14",
         "Alex Smith",
         "35",
         "Germany",
         "Premium",
         "73.63",
         "Sci-Fi",
         "2024-10-02"
        ],
        [
         "14",
         "15",
         "Michael Jones",
         "68",
         "USA",
         "Premium",
         "359.3",
         "Sci-Fi",
         "2024-07-25"
        ],
        [
         "15",
         "16",
         "Chris Miller",
         "39",
         "Australia",
         "Premium",
         "768.19",
         "Comedy",
         "2024-10-11"
        ],
        [
         "16",
         "17",
         "Chris Davis",
         "74",
         "UK",
         "Standard",
         "610.7",
         "Drama",
         "2024-07-03"
        ],
        [
         "17",
         "18",
         "Emma Williams",
         "59",
         "Canada",
         "Premium",
         "813.46",
         "Documentary",
         "2024-08-08"
        ],
        [
         "18",
         "19",
         "Alex Johnson",
         "63",
         "Brazil",
         "Premium",
         "963.64",
         "Action",
         "2024-08-08"
        ],
        [
         "19",
         "20",
         "John Jones",
         "67",
         "Canada",
         "Standard",
         "460.6",
         "Comedy",
         "2024-12-07"
        ],
        [
         "20",
         "21",
         "Michael Williams",
         "47",
         "France",
         "Standard",
         "637.43",
         "Horror",
         "2025-01-21"
        ],
        [
         "21",
         "22",
         "James Martinez",
         "46",
         "UK",
         "Premium",
         "620.74",
         "Comedy",
         "2024-04-19"
        ],
        [
         "22",
         "23",
         "Sarah Davis",
         "40",
         "UK",
         "Basic",
         "451.59",
         "Drama",
         "2024-04-08"
        ],
        [
         "23",
         "24",
         "John Smith",
         "46",
         "UK",
         "Basic",
         "388.91",
         "Horror",
         "2024-10-16"
        ],
        [
         "24",
         "25",
         "Alex Brown",
         "37",
         "Canada",
         "Basic",
         "418.2",
         "Horror",
         "2024-05-26"
        ],
        [
         "25",
         "26",
         "Chris Johnson",
         "26",
         "Brazil",
         "Premium",
         "95.46",
         "Sci-Fi",
         "2024-08-23"
        ],
        [
         "26",
         "27",
         "James Jones",
         "17",
         "Mexico",
         "Standard",
         "253.6",
         "Documentary",
         "2024-09-29"
        ],
        [
         "27",
         "28",
         "Michael Johnson",
         "37",
         "France",
         "Premium",
         "936.05",
         "Comedy",
         "2025-01-07"
        ],
        [
         "28",
         "29",
         "Michael Johnson",
         "59",
         "Mexico",
         "Basic",
         "971.97",
         "Drama",
         "2024-11-03"
        ],
        [
         "29",
         "30",
         "Sarah Smith",
         "67",
         "Australia",
         "Basic",
         "542.57",
         "Action",
         "2025-02-11"
        ],
        [
         "30",
         "31",
         "Chris Jones",
         "14",
         "Germany",
         "Premium",
         "81.89",
         "Drama",
         "2024-08-06"
        ],
        [
         "31",
         "32",
         "John Williams",
         "27",
         "Canada",
         "Standard",
         "568.86",
         "Sci-Fi",
         "2025-02-01"
        ],
        [
         "32",
         "33",
         "Jane Brown",
         "59",
         "UK",
         "Standard",
         "67.28",
         "Sci-Fi",
         "2024-07-21"
        ],
        [
         "33",
         "34",
         "David Davis",
         "56",
         "Mexico",
         "Basic",
         "835.85",
         "Documentary",
         "2024-07-11"
        ],
        [
         "34",
         "35",
         "Emma Hernandez",
         "52",
         "India",
         "Basic",
         "91.07",
         "Sci-Fi",
         "2024-12-04"
        ],
        [
         "35",
         "36",
         "Michael Jones",
         "26",
         "UK",
         "Basic",
         "703.81",
         "Comedy",
         "2024-06-06"
        ],
        [
         "36",
         "37",
         "Sarah Williams",
         "64",
         "Germany",
         "Basic",
         "693.84",
         "Documentary",
         "2024-06-28"
        ],
        [
         "37",
         "38",
         "David Martinez",
         "80",
         "Brazil",
         "Premium",
         "431.61",
         "Drama",
         "2024-08-08"
        ],
        [
         "38",
         "39",
         "Emma Smith",
         "70",
         "USA",
         "Standard",
         "13.5",
         "Comedy",
         "2024-10-27"
        ],
        [
         "39",
         "40",
         "Sarah Hernandez",
         "15",
         "Brazil",
         "Premium",
         "914.7",
         "Horror",
         "2024-04-30"
        ],
        [
         "40",
         "41",
         "John Jones",
         "23",
         "Germany",
         "Standard",
         "404.84",
         "Romance",
         "2024-10-29"
        ],
        [
         "41",
         "42",
         "James Williams",
         "40",
         "Canada",
         "Premium",
         "610.93",
         "Romance",
         "2024-10-02"
        ],
        [
         "42",
         "43",
         "David Brown",
         "35",
         "Canada",
         "Premium",
         "834.96",
         "Documentary",
         "2024-06-08"
        ],
        [
         "43",
         "44",
         "Chris Garcia",
         "68",
         "Japan",
         "Basic",
         "145.66",
         "Documentary",
         "2024-04-12"
        ],
        [
         "44",
         "45",
         "Chris Jones",
         "50",
         "USA",
         "Basic",
         "370.08",
         "Action",
         "2024-03-30"
        ],
        [
         "45",
         "46",
         "John Johnson",
         "45",
         "India",
         "Standard",
         "474.83",
         "Drama",
         "2024-11-01"
        ],
        [
         "46",
         "47",
         "Sarah Smith",
         "16",
         "Brazil",
         "Premium",
         "321.21",
         "Documentary",
         "2024-04-13"
        ],
        [
         "47",
         "48",
         "Sarah Garcia",
         "40",
         "Australia",
         "Basic",
         "197.08",
         "Comedy",
         "2024-10-19"
        ],
        [
         "48",
         "49",
         "Michael Brown",
         "57",
         "Australia",
         "Premium",
         "420.58",
         "Sci-Fi",
         "2024-09-18"
        ],
        [
         "49",
         "50",
         "David Hernandez",
         "72",
         "Brazil",
         "Basic",
         "479.4",
         "Action",
         "2024-07-13"
        ]
       ],
       "shape": {
        "columns": 8,
        "rows": 25000
       }
      },
      "text/html": [
       "<div>\n",
       "<style scoped>\n",
       "    .dataframe tbody tr th:only-of-type {\n",
       "        vertical-align: middle;\n",
       "    }\n",
       "\n",
       "    .dataframe tbody tr th {\n",
       "        vertical-align: top;\n",
       "    }\n",
       "\n",
       "    .dataframe thead th {\n",
       "        text-align: right;\n",
       "    }\n",
       "</style>\n",
       "<table border=\"1\" class=\"dataframe\">\n",
       "  <thead>\n",
       "    <tr style=\"text-align: right;\">\n",
       "      <th></th>\n",
       "      <th>User_ID</th>\n",
       "      <th>Name</th>\n",
       "      <th>Age</th>\n",
       "      <th>Country</th>\n",
       "      <th>Subscription_Type</th>\n",
       "      <th>Watch_Time_Hours</th>\n",
       "      <th>Favorite_Genre</th>\n",
       "      <th>Last_Login</th>\n",
       "    </tr>\n",
       "  </thead>\n",
       "  <tbody>\n",
       "    <tr>\n",
       "      <th>0</th>\n",
       "      <td>1</td>\n",
       "      <td>James Martinez</td>\n",
       "      <td>18</td>\n",
       "      <td>France</td>\n",
       "      <td>Premium</td>\n",
       "      <td>80.26</td>\n",
       "      <td>Drama</td>\n",
       "      <td>2024-05-12</td>\n",
       "    </tr>\n",
       "    <tr>\n",
       "      <th>1</th>\n",
       "      <td>2</td>\n",
       "      <td>John Miller</td>\n",
       "      <td>23</td>\n",
       "      <td>USA</td>\n",
       "      <td>Premium</td>\n",
       "      <td>321.75</td>\n",
       "      <td>Sci-Fi</td>\n",
       "      <td>2025-02-05</td>\n",
       "    </tr>\n",
       "    <tr>\n",
       "      <th>2</th>\n",
       "      <td>3</td>\n",
       "      <td>Emma Davis</td>\n",
       "      <td>60</td>\n",
       "      <td>UK</td>\n",
       "      <td>Basic</td>\n",
       "      <td>35.89</td>\n",
       "      <td>Comedy</td>\n",
       "      <td>2025-01-24</td>\n",
       "    </tr>\n",
       "    <tr>\n",
       "      <th>3</th>\n",
       "      <td>4</td>\n",
       "      <td>Emma Miller</td>\n",
       "      <td>44</td>\n",
       "      <td>USA</td>\n",
       "      <td>Premium</td>\n",
       "      <td>261.56</td>\n",
       "      <td>Documentary</td>\n",
       "      <td>2024-03-25</td>\n",
       "    </tr>\n",
       "    <tr>\n",
       "      <th>4</th>\n",
       "      <td>5</td>\n",
       "      <td>Jane Smith</td>\n",
       "      <td>68</td>\n",
       "      <td>USA</td>\n",
       "      <td>Standard</td>\n",
       "      <td>909.30</td>\n",
       "      <td>Drama</td>\n",
       "      <td>2025-01-14</td>\n",
       "    </tr>\n",
       "    <tr>\n",
       "      <th>...</th>\n",
       "      <td>...</td>\n",
       "      <td>...</td>\n",
       "      <td>...</td>\n",
       "      <td>...</td>\n",
       "      <td>...</td>\n",
       "      <td>...</td>\n",
       "      <td>...</td>\n",
       "      <td>...</td>\n",
       "    </tr>\n",
       "    <tr>\n",
       "      <th>24995</th>\n",
       "      <td>24996</td>\n",
       "      <td>David Miller</td>\n",
       "      <td>18</td>\n",
       "      <td>Australia</td>\n",
       "      <td>Premium</td>\n",
       "      <td>183.88</td>\n",
       "      <td>Horror</td>\n",
       "      <td>2025-01-18</td>\n",
       "    </tr>\n",
       "    <tr>\n",
       "      <th>24996</th>\n",
       "      <td>24997</td>\n",
       "      <td>Jane Miller</td>\n",
       "      <td>17</td>\n",
       "      <td>USA</td>\n",
       "      <td>Premium</td>\n",
       "      <td>112.37</td>\n",
       "      <td>Drama</td>\n",
       "      <td>2024-06-29</td>\n",
       "    </tr>\n",
       "    <tr>\n",
       "      <th>24997</th>\n",
       "      <td>24998</td>\n",
       "      <td>Sarah Miller</td>\n",
       "      <td>14</td>\n",
       "      <td>USA</td>\n",
       "      <td>Premium</td>\n",
       "      <td>351.80</td>\n",
       "      <td>Action</td>\n",
       "      <td>2024-10-16</td>\n",
       "    </tr>\n",
       "    <tr>\n",
       "      <th>24998</th>\n",
       "      <td>24999</td>\n",
       "      <td>Michael Williams</td>\n",
       "      <td>71</td>\n",
       "      <td>USA</td>\n",
       "      <td>Basic</td>\n",
       "      <td>655.89</td>\n",
       "      <td>Action</td>\n",
       "      <td>2024-08-27</td>\n",
       "    </tr>\n",
       "    <tr>\n",
       "      <th>24999</th>\n",
       "      <td>25000</td>\n",
       "      <td>James Jones</td>\n",
       "      <td>19</td>\n",
       "      <td>Germany</td>\n",
       "      <td>Premium</td>\n",
       "      <td>207.06</td>\n",
       "      <td>Documentary</td>\n",
       "      <td>2024-04-12</td>\n",
       "    </tr>\n",
       "  </tbody>\n",
       "</table>\n",
       "<p>25000 rows × 8 columns</p>\n",
       "</div>"
      ],
      "text/plain": [
       "       User_ID              Name  Age    Country Subscription_Type  \\\n",
       "0            1    James Martinez   18     France           Premium   \n",
       "1            2       John Miller   23        USA           Premium   \n",
       "2            3        Emma Davis   60         UK             Basic   \n",
       "3            4       Emma Miller   44        USA           Premium   \n",
       "4            5        Jane Smith   68        USA          Standard   \n",
       "...        ...               ...  ...        ...               ...   \n",
       "24995    24996      David Miller   18  Australia           Premium   \n",
       "24996    24997       Jane Miller   17        USA           Premium   \n",
       "24997    24998      Sarah Miller   14        USA           Premium   \n",
       "24998    24999  Michael Williams   71        USA             Basic   \n",
       "24999    25000       James Jones   19    Germany           Premium   \n",
       "\n",
       "       Watch_Time_Hours Favorite_Genre  Last_Login  \n",
       "0                 80.26          Drama  2024-05-12  \n",
       "1                321.75         Sci-Fi  2025-02-05  \n",
       "2                 35.89         Comedy  2025-01-24  \n",
       "3                261.56    Documentary  2024-03-25  \n",
       "4                909.30          Drama  2025-01-14  \n",
       "...                 ...            ...         ...  \n",
       "24995            183.88         Horror  2025-01-18  \n",
       "24996            112.37          Drama  2024-06-29  \n",
       "24997            351.80         Action  2024-10-16  \n",
       "24998            655.89         Action  2024-08-27  \n",
       "24999            207.06    Documentary  2024-04-12  \n",
       "\n",
       "[25000 rows x 8 columns]"
      ]
     },
     "execution_count": 15,
     "metadata": {},
     "output_type": "execute_result"
    }
   ],
   "source": [
    "import pandas as pd\n",
    "import kagglehub\n",
    "import os\n",
    "\n",
    "\n",
    "dataset_path = kagglehub.dataset_download(\"smayanj/netflix-users-database\")\n",
    "\n",
    "# Lista os arquivos dentro do diretório baixado\n",
    "files = os.listdir(dataset_path)\n",
    "print(\"Arquivos no diretório:\", files)\n",
    "\n",
    "# Encontra o arquivo CSV\n",
    "csv_file = next((f for f in files if f.endswith(\".csv\")), None)\n",
    "\n",
    "if not csv_file:\n",
    "    print(\"Nenhum arquivo CSV encontrado no diretório.\")\n",
    "    exit(1)\n",
    "\n",
    "csv_path = os.path.join(dataset_path, csv_file)\n",
    "df = pd.read_csv(csv_path)\n",
    "print(\"Arquivo CSV lido com sucesso!\")\n",
    "df"
   ]
  },
  {
   "cell_type": "markdown",
   "metadata": {},
   "source": [
    "DEFININDO FUNÇÕES DE PROBABILIDADE"
   ]
  },
  {
   "cell_type": "code",
   "execution_count": 16,
   "metadata": {},
   "outputs": [],
   "source": [
    "def probabilidade_uniao(prob_A, prob_B, prob_intersection):\n",
    "    if prob_intersection is None:\n",
    "        prob_intersection = prob_A * prob_B\n",
    "    return prob_A + prob_B - prob_intersection\n",
    "\n",
    "def probabilidade_intersecao(p_a, p_b, p_b_given_a=None):\n",
    "    if p_b_given_a is None:\n",
    "        return p_a * p_b\n",
    "    else:\n",
    "        return p_a * p_b_given_a"
   ]
  },
  {
   "cell_type": "markdown",
   "metadata": {},
   "source": [
    "CÁLCULO MÉDIA DAS IDADES"
   ]
  },
  {
   "cell_type": "code",
   "execution_count": 17,
   "metadata": {},
   "outputs": [
    {
     "name": "stdout",
     "output_type": "stream",
     "text": [
      "Média das idades: 46.48288\n"
     ]
    }
   ],
   "source": [
    "soma_idades = 0\n",
    "cont = 0\n",
    "\n",
    "for index, age in df['Age'].items():\n",
    "    if not pd.isnull(age):\n",
    "        soma_idades += age\n",
    "        cont += 1\n",
    "\n",
    "if cont > 0:\n",
    "    media_idades = soma_idades / cont\n",
    "else:\n",
    "    media_idades = float('nan')\n",
    "\n",
    "print(\"Média das idades:\", media_idades)"
   ]
  },
  {
   "cell_type": "markdown",
   "metadata": {},
   "source": [
    "LIMPEZA DOS DADOS E CONTAGEM POR PAÍS"
   ]
  },
  {
   "cell_type": "code",
   "execution_count": 18,
   "metadata": {},
   "outputs": [
    {
     "name": "stdout",
     "output_type": "stream",
     "text": [
      "\n",
      "Contagem de pessoas por país:\n",
      "Brasileiro: 2503\n",
      "Mexicano: 2493\n",
      "Indiano: 2505\n",
      "Australiano: 2437\n",
      "Canadense: 2490\n",
      "Estadunidense: 2503\n",
      "Alemão: 2547\n",
      "Japonês: 2457\n",
      "Inglês: 2592\n",
      "Francês: 2473\n",
      "\n",
      "Percentual de pessoas por país:\n",
      "Uk: 10.37%\n",
      "Germany: 10.19%\n",
      "India: 10.02%\n",
      "Usa: 10.01%\n",
      "Brazil: 10.01%\n",
      "Mexico: 9.97%\n",
      "Canada: 9.96%\n",
      "France: 9.89%\n",
      "Japan: 9.83%\n",
      "Australia: 9.75%\n"
     ]
    }
   ],
   "source": [
    "\n",
    "df_clean = df[df['Country'].notna()]\n",
    "country_counts = df_clean['Country'].str.strip().str.lower().value_counts()\n",
    "\n",
    "brasileiro    = country_counts.get('brazil', 0)\n",
    "mexicano      = country_counts.get('mexico', 0)\n",
    "indiano       = country_counts.get('india', 0)\n",
    "australiano   = country_counts.get('australia', 0)\n",
    "canadense     = country_counts.get('canada', 0)\n",
    "estadunidense = country_counts.get('usa', 0)\n",
    "alemao        = country_counts.get('germany', 0)\n",
    "japones       = country_counts.get('japan', 0)\n",
    "ingles        = country_counts.get('uk', 0)\n",
    "frances       = country_counts.get('france', 0)\n",
    "\n",
    "print(\"\\nContagem de pessoas por país:\")\n",
    "print(\"Brasileiro:\", brasileiro)\n",
    "print(\"Mexicano:\", mexicano)\n",
    "print(\"Indiano:\", indiano)\n",
    "print(\"Australiano:\", australiano)\n",
    "print(\"Canadense:\", canadense)\n",
    "print(\"Estadunidense:\", estadunidense)\n",
    "print(\"Alemão:\", alemao)\n",
    "print(\"Japonês:\", japones)\n",
    "print(\"Inglês:\", ingles)\n",
    "print(\"Francês:\", frances)\n",
    "\n",
    "# Percentual de cada país (já em porcentagem)\n",
    "country_percentages = df_clean['Country'].value_counts(normalize=True) * 100\n",
    "print(\"\\nPercentual de pessoas por país:\")\n",
    "for pais, perc in country_percentages.items():\n",
    "    print(f\"{pais.capitalize()}: {perc:.2f}%\")"
   ]
  },
  {
   "cell_type": "markdown",
   "metadata": {},
   "source": [
    "PROCESSAMENTO DE ASSINATURAS"
   ]
  },
  {
   "cell_type": "code",
   "execution_count": 19,
   "metadata": {},
   "outputs": [
    {
     "name": "stdout",
     "output_type": "stream",
     "text": [
      "\n",
      "Informações sobre assinaturas:\n",
      "Quantidade Premium: 8402\n",
      "Quantidade Basic: 8356\n",
      "Quantidade Standard: 8242\n",
      "Porcentagem Premium: 33.61%\n",
      "Porcentagem Basic: 33.42%\n",
      "Porcentagem Standard: 32.97%\n"
     ]
    }
   ],
   "source": [
    "assinaturas = df_clean['Subscription_Type'].str.strip().str.lower()\n",
    "\n",
    "quant_premium  = assinaturas.eq('premium').sum()\n",
    "quant_basic    = assinaturas.eq('basic').sum()\n",
    "quant_standard = assinaturas.eq('standard').sum()\n",
    "\n",
    "assinaturas_total = quant_premium + quant_basic + quant_standard\n",
    "\n",
    "assinaturas_porcentagem_premium  = (quant_premium / assinaturas_total) * 100\n",
    "assinaturas_porcentagem_basic    = (quant_basic / assinaturas_total) * 100\n",
    "assinaturas_porcentagem_standard = (quant_standard / assinaturas_total) * 100\n",
    "\n",
    "print(\"\\nInformações sobre assinaturas:\")\n",
    "print(\"Quantidade Premium:\", quant_premium)\n",
    "print(\"Quantidade Basic:\", quant_basic)\n",
    "print(\"Quantidade Standard:\", quant_standard)\n",
    "print(\"Porcentagem Premium: {:.2f}%\".format(assinaturas_porcentagem_premium))\n",
    "print(\"Porcentagem Basic: {:.2f}%\".format(assinaturas_porcentagem_basic))\n",
    "print(\"Porcentagem Standard: {:.2f}%\".format(assinaturas_porcentagem_standard))"
   ]
  },
  {
   "cell_type": "markdown",
   "metadata": {},
   "source": [
    "PROCESSAMENTO DOS GÊNEROS FAVORITOS"
   ]
  },
  {
   "cell_type": "code",
   "execution_count": 20,
   "metadata": {},
   "outputs": [
    {
     "name": "stdout",
     "output_type": "stream",
     "text": [
      "\n",
      "Quantidade de cada gênero favorito:\n",
      "Drama: 3533\n",
      "Documentary: 3636\n",
      "Comedy: 3561\n",
      "Horror: 3654\n",
      "Action: 3589\n",
      "Sci-Fi: 3455\n",
      "\n",
      "Porcentagem dos gêneros (baseado no total de assinaturas):\n",
      "Drama: 14.13%\n",
      "Documentary: 14.54%\n",
      "Comedy: 14.24%\n",
      "Horror: 14.62%\n",
      "Action: 14.36%\n",
      "Sci-Fi: 13.82%\n"
     ]
    }
   ],
   "source": [
    "generos = df_clean['Favorite_Genre'].str.strip().str.lower()\n",
    "\n",
    "quant_drama       = generos.eq('drama').sum()\n",
    "quant_documentary = generos.eq('documentary').sum()\n",
    "quant_comedy      = generos.eq('comedy').sum()\n",
    "quant_horror      = generos.eq('horror').sum()\n",
    "quant_action      = generos.eq('action').sum()\n",
    "quant_sci         = generos.eq('sci-fi').sum()\n",
    "\n",
    "print(\"\\nQuantidade de cada gênero favorito:\")\n",
    "print(\"Drama:\", quant_drama)\n",
    "print(\"Documentary:\", quant_documentary)\n",
    "print(\"Comedy:\", quant_comedy)\n",
    "print(\"Horror:\", quant_horror)\n",
    "print(\"Action:\", quant_action)\n",
    "print(\"Sci-Fi:\", quant_sci)\n",
    "\n",
    "# Porcentagens dos gêneros (baseado no total de assinaturas)\n",
    "drama_porcentagem       = (quant_drama / assinaturas_total) * 100\n",
    "documentary_porcentagem = (quant_documentary / assinaturas_total) * 100\n",
    "comedy_porcentagem      = (quant_comedy / assinaturas_total) * 100\n",
    "horror_porcentagem      = (quant_horror / assinaturas_total) * 100\n",
    "action_porcentagem      = (quant_action / assinaturas_total) * 100\n",
    "sci_porcentagem         = (quant_sci / assinaturas_total) * 100\n",
    "\n",
    "print(\"\\nPorcentagem dos gêneros (baseado no total de assinaturas):\")\n",
    "print(\"Drama: {:.2f}%\".format(drama_porcentagem))\n",
    "print(\"Documentary: {:.2f}%\".format(documentary_porcentagem))\n",
    "print(\"Comedy: {:.2f}%\".format(comedy_porcentagem))\n",
    "print(\"Horror: {:.2f}%\".format(horror_porcentagem))\n",
    "print(\"Action: {:.2f}%\".format(action_porcentagem))\n",
    "print(\"Sci-Fi: {:.2f}%\".format(sci_porcentagem))"
   ]
  },
  {
   "cell_type": "markdown",
   "metadata": {},
   "source": [
    "CÁLCULO DE PROBABILIDADE DE INTERSEÇÃO\n"
   ]
  },
  {
   "cell_type": "code",
   "execution_count": 21,
   "metadata": {},
   "outputs": [
    {
     "name": "stdout",
     "output_type": "stream",
     "text": [
      "\n",
      "Probabilidade de uma pessoa ser estadunidense: 10.01%\n",
      "\n",
      "Quantidade de pessoas estadunidenses com gênero favorito 'horror': 351\n",
      "Probabilidade de ser estadunidense e ter 'horror' como gênero favorito: 14.02%\n",
      "\n",
      "Quantidade de pessoas brasileiras com gênero favorito 'horror': 351\n"
     ]
    }
   ],
   "source": [
    "# Probabilidade de ser estadunidense\n",
    "\n",
    "probabilidade_estadunidense = (estadunidense / assinaturas_total)\n",
    "print(\"\\nProbabilidade de uma pessoa ser estadunidense: {:.2f}%\".format(probabilidade_estadunidense * 100))\n",
    "\n",
    "# Probabilidade de ser estadunidense e ter o gênero favorito 'horror'\n",
    "df_usa_horror = df_clean[\n",
    "    (df_clean['Country'].str.strip().str.lower() == 'usa') &\n",
    "    (df_clean['Favorite_Genre'].str.strip().str.lower() == 'horror')\n",
    "]\n",
    "quantidade_usa_horror = df_usa_horror.shape[0]\n",
    "print(\"\\nQuantidade de pessoas estadunidenses com gênero favorito 'horror':\", quantidade_usa_horror)\n",
    "\n",
    "probabilidade_usa_terror = quantidade_usa_horror / estadunidense if estadunidense != 0 else 0\n",
    "print(\"Probabilidade de ser estadunidense e ter 'horror' como gênero favorito: {:.2f}%\".format(probabilidade_usa_terror * 100))\n",
    "\n",
    "# Probabilidade de ser brasileiro e ter assinatura premium\n",
    "probabilidade_brasileiro = (brasileiro / assinaturas_total)\n",
    "brasileiro_e_drama = df_clean[\n",
    "    (df_clean['Country'].str.strip().str.lower() == 'usa') &\n",
    "    (df_clean['Favorite_Genre'].str.strip().str.lower() == 'horror')\n",
    "]\n",
    "quantidade_brasileiro_e_drama = brasileiro_e_drama.shape[0]\n",
    "print(\"\\nQuantidade de pessoas brasileiras com gênero favorito 'horror':\", quantidade_brasileiro_e_drama)"
   ]
  },
  {
   "cell_type": "markdown",
   "metadata": {},
   "source": [
    "PROBABILIDADES BASEADAS EM CONDIÇÕES DE IDADE E HORAS ASSISTIDAS\n"
   ]
  },
  {
   "cell_type": "code",
   "execution_count": 22,
   "metadata": {},
   "outputs": [
    {
     "name": "stdout",
     "output_type": "stream",
     "text": [
      "\n",
      "Probabilidade de ter 300+ horas assistidas e 50+ anos: 31.95%\n"
     ]
    }
   ],
   "source": [
    "maior_50_idade = 0\n",
    "maior_300_horas = 0\n",
    "\n",
    "for index, age in df['Age'].items():\n",
    "    if age >= 50:\n",
    "        maior_50_idade += 1\n",
    "\n",
    "for index, horas in df['Watch_Time_Hours'].items():\n",
    "    if horas >= 300:\n",
    "        maior_300_horas += 1\n",
    "\n",
    "probabilidade_maior_300 = (maior_300_horas / assinaturas_total)\n",
    "probabilidade_maior_50  = (maior_50_idade / assinaturas_total)\n",
    "maior = probabilidade_intersecao(probabilidade_maior_300, probabilidade_maior_50)\n",
    "print(\"\\nProbabilidade de ter 300+ horas assistidas e 50+ anos: {:.2f}%\".format(maior * 100))"
   ]
  },
  {
   "cell_type": "markdown",
   "metadata": {},
   "source": [
    "PROBABILIDADE DE UNIÃO: ESTADUNIDENSES COM GÊNERO FAVORITO 'Horror'"
   ]
  },
  {
   "cell_type": "code",
   "execution_count": 23,
   "metadata": {},
   "outputs": [
    {
     "name": "stdout",
     "output_type": "stream",
     "text": [
      "\n",
      "Quantidade de pessoas (ou) com país 'usa' ou gênero 'horror': 5806\n",
      "Probabilidade de ser estadunidense e ter 'horror' como gênero favorito: 231.96%\n"
     ]
    }
   ],
   "source": [
    "df_usa_horror = df_clean[\n",
    "    (df_clean['Country'].str.strip().str.lower() == 'usa') |\n",
    "    (df_clean['Favorite_Genre'].str.strip().str.lower() == 'horror')\n",
    "]\n",
    "quantidade_usa_horror = df_usa_horror.shape[0]\n",
    "print(\"\\nQuantidade de pessoas (ou) com país 'usa' ou gênero 'horror':\", quantidade_usa_horror)\n",
    "\n",
    "probabilidade_usa_terror = quantidade_usa_horror / estadunidense if estadunidense != 0 else 0\n",
    "print(\"Probabilidade de ser estadunidense e ter 'horror' como gênero favorito: {:.2f}%\".format(probabilidade_usa_terror * 100))"
   ]
  },
  {
   "cell_type": "markdown",
   "metadata": {},
   "source": [
    "PROBABILIDADE PARA BRASILEIROS COM ASSINATURA PREMIUM"
   ]
  },
  {
   "cell_type": "code",
   "execution_count": 24,
   "metadata": {},
   "outputs": [
    {
     "name": "stdout",
     "output_type": "stream",
     "text": [
      "\n",
      "Quantidade de pessoas brasileiras com assinatura premium: 10047\n"
     ]
    }
   ],
   "source": [
    "df_brazil_premium = df_clean[\n",
    "    (df_clean['Country'].str.strip().str.lower() == 'brazil') |\n",
    "    (df_clean['Subscription_Type'].str.strip().str.lower() == 'premium')\n",
    "]\n",
    "quantidade_brazil_premium = df_brazil_premium.shape[0]\n",
    "print(\"\\nQuantidade de pessoas brasileiras com assinatura premium:\", quantidade_brazil_premium)"
   ]
  },
  {
   "cell_type": "markdown",
   "metadata": {},
   "source": [
    "CHANCE DE TER IDADE >= 50 OU MAIS DE 300 HORAS ASSISTIDAS\n"
   ]
  },
  {
   "cell_type": "code",
   "execution_count": 25,
   "metadata": {},
   "outputs": [
    {
     "name": "stdout",
     "output_type": "stream",
     "text": [
      "\n",
      "Chance de ter idade >= 50 ou mais de 300 horas assistidas: 83.78%\n"
     ]
    }
   ],
   "source": [
    "df_valid = df[df['Age'].notna() & df['Watch_Time_Hours'].notna()]\n",
    "df_condition = df_valid[(df_valid['Age'] >= 50) | (df_valid['Watch_Time_Hours'] > 300)]\n",
    "chance = df_condition.shape[0] / df_valid.shape[0]\n",
    "print(\"\\nChance de ter idade >= 50 ou mais de 300 horas assistidas: {:.2f}%\".format(chance * 100))\n"
   ]
  },
  {
   "cell_type": "markdown",
   "metadata": {},
   "source": [
    "FINAL DATAFRAME\n"
   ]
  },
  {
   "cell_type": "code",
   "execution_count": 26,
   "metadata": {},
   "outputs": [
    {
     "data": {
      "application/vnd.microsoft.datawrangler.viewer.v0+json": {
       "columns": [
        {
         "name": "index",
         "rawType": "int64",
         "type": "integer"
        },
        {
         "name": "User_ID",
         "rawType": "int64",
         "type": "integer"
        },
        {
         "name": "Name",
         "rawType": "object",
         "type": "string"
        },
        {
         "name": "Age",
         "rawType": "int64",
         "type": "integer"
        },
        {
         "name": "Country",
         "rawType": "object",
         "type": "string"
        },
        {
         "name": "Subscription_Type",
         "rawType": "object",
         "type": "string"
        },
        {
         "name": "Watch_Time_Hours",
         "rawType": "float64",
         "type": "float"
        },
        {
         "name": "Favorite_Genre",
         "rawType": "object",
         "type": "string"
        },
        {
         "name": "Last_Login",
         "rawType": "object",
         "type": "string"
        }
       ],
       "conversionMethod": "pd.DataFrame",
       "ref": "fcdae5db-650c-4044-b6b6-81930c90e41a",
       "rows": [
        [
         "0",
         "1",
         "James Martinez",
         "18",
         "France",
         "Premium",
         "80.26",
         "Drama",
         "2024-05-12"
        ],
        [
         "1",
         "2",
         "John Miller",
         "23",
         "USA",
         "Premium",
         "321.75",
         "Sci-Fi",
         "2025-02-05"
        ],
        [
         "2",
         "3",
         "Emma Davis",
         "60",
         "UK",
         "Basic",
         "35.89",
         "Comedy",
         "2025-01-24"
        ],
        [
         "3",
         "4",
         "Emma Miller",
         "44",
         "USA",
         "Premium",
         "261.56",
         "Documentary",
         "2024-03-25"
        ],
        [
         "4",
         "5",
         "Jane Smith",
         "68",
         "USA",
         "Standard",
         "909.3",
         "Drama",
         "2025-01-14"
        ],
        [
         "5",
         "6",
         "David Johnson",
         "21",
         "USA",
         "Standard",
         "615.93",
         "Romance",
         "2025-02-03"
        ],
        [
         "6",
         "7",
         "John Hernandez",
         "57",
         "Canada",
         "Standard",
         "755.47",
         "Romance",
         "2025-01-05"
        ],
        [
         "7",
         "8",
         "Katie Hernandez",
         "68",
         "USA",
         "Standard",
         "145.23",
         "Sci-Fi",
         "2024-10-30"
        ],
        [
         "8",
         "9",
         "James Williams",
         "39",
         "UK",
         "Basic",
         "950.14",
         "Action",
         "2024-04-16"
        ],
        [
         "9",
         "10",
         "Alex Davis",
         "55",
         "Mexico",
         "Standard",
         "696.66",
         "Horror",
         "2024-07-03"
        ],
        [
         "10",
         "11",
         "Jane Miller",
         "26",
         "Japan",
         "Standard",
         "290.31",
         "Action",
         "2024-09-11"
        ],
        [
         "11",
         "12",
         "Jane Martinez",
         "62",
         "USA",
         "Standard",
         "490.39",
         "Action",
         "2024-06-12"
        ],
        [
         "12",
         "13",
         "Alex Martinez",
         "65",
         "Australia",
         "Premium",
         "712.23",
         "Comedy",
         "2024-08-08"
        ],
        [
         "13",
         "14",
         "Alex Smith",
         "35",
         "Germany",
         "Premium",
         "73.63",
         "Sci-Fi",
         "2024-10-02"
        ],
        [
         "14",
         "15",
         "Michael Jones",
         "68",
         "USA",
         "Premium",
         "359.3",
         "Sci-Fi",
         "2024-07-25"
        ],
        [
         "15",
         "16",
         "Chris Miller",
         "39",
         "Australia",
         "Premium",
         "768.19",
         "Comedy",
         "2024-10-11"
        ],
        [
         "16",
         "17",
         "Chris Davis",
         "74",
         "UK",
         "Standard",
         "610.7",
         "Drama",
         "2024-07-03"
        ],
        [
         "17",
         "18",
         "Emma Williams",
         "59",
         "Canada",
         "Premium",
         "813.46",
         "Documentary",
         "2024-08-08"
        ],
        [
         "18",
         "19",
         "Alex Johnson",
         "63",
         "Brazil",
         "Premium",
         "963.64",
         "Action",
         "2024-08-08"
        ],
        [
         "19",
         "20",
         "John Jones",
         "67",
         "Canada",
         "Standard",
         "460.6",
         "Comedy",
         "2024-12-07"
        ],
        [
         "20",
         "21",
         "Michael Williams",
         "47",
         "France",
         "Standard",
         "637.43",
         "Horror",
         "2025-01-21"
        ],
        [
         "21",
         "22",
         "James Martinez",
         "46",
         "UK",
         "Premium",
         "620.74",
         "Comedy",
         "2024-04-19"
        ],
        [
         "22",
         "23",
         "Sarah Davis",
         "40",
         "UK",
         "Basic",
         "451.59",
         "Drama",
         "2024-04-08"
        ],
        [
         "23",
         "24",
         "John Smith",
         "46",
         "UK",
         "Basic",
         "388.91",
         "Horror",
         "2024-10-16"
        ],
        [
         "24",
         "25",
         "Alex Brown",
         "37",
         "Canada",
         "Basic",
         "418.2",
         "Horror",
         "2024-05-26"
        ],
        [
         "25",
         "26",
         "Chris Johnson",
         "26",
         "Brazil",
         "Premium",
         "95.46",
         "Sci-Fi",
         "2024-08-23"
        ],
        [
         "26",
         "27",
         "James Jones",
         "17",
         "Mexico",
         "Standard",
         "253.6",
         "Documentary",
         "2024-09-29"
        ],
        [
         "27",
         "28",
         "Michael Johnson",
         "37",
         "France",
         "Premium",
         "936.05",
         "Comedy",
         "2025-01-07"
        ],
        [
         "28",
         "29",
         "Michael Johnson",
         "59",
         "Mexico",
         "Basic",
         "971.97",
         "Drama",
         "2024-11-03"
        ],
        [
         "29",
         "30",
         "Sarah Smith",
         "67",
         "Australia",
         "Basic",
         "542.57",
         "Action",
         "2025-02-11"
        ],
        [
         "30",
         "31",
         "Chris Jones",
         "14",
         "Germany",
         "Premium",
         "81.89",
         "Drama",
         "2024-08-06"
        ],
        [
         "31",
         "32",
         "John Williams",
         "27",
         "Canada",
         "Standard",
         "568.86",
         "Sci-Fi",
         "2025-02-01"
        ],
        [
         "32",
         "33",
         "Jane Brown",
         "59",
         "UK",
         "Standard",
         "67.28",
         "Sci-Fi",
         "2024-07-21"
        ],
        [
         "33",
         "34",
         "David Davis",
         "56",
         "Mexico",
         "Basic",
         "835.85",
         "Documentary",
         "2024-07-11"
        ],
        [
         "34",
         "35",
         "Emma Hernandez",
         "52",
         "India",
         "Basic",
         "91.07",
         "Sci-Fi",
         "2024-12-04"
        ],
        [
         "35",
         "36",
         "Michael Jones",
         "26",
         "UK",
         "Basic",
         "703.81",
         "Comedy",
         "2024-06-06"
        ],
        [
         "36",
         "37",
         "Sarah Williams",
         "64",
         "Germany",
         "Basic",
         "693.84",
         "Documentary",
         "2024-06-28"
        ],
        [
         "37",
         "38",
         "David Martinez",
         "80",
         "Brazil",
         "Premium",
         "431.61",
         "Drama",
         "2024-08-08"
        ],
        [
         "38",
         "39",
         "Emma Smith",
         "70",
         "USA",
         "Standard",
         "13.5",
         "Comedy",
         "2024-10-27"
        ],
        [
         "39",
         "40",
         "Sarah Hernandez",
         "15",
         "Brazil",
         "Premium",
         "914.7",
         "Horror",
         "2024-04-30"
        ],
        [
         "40",
         "41",
         "John Jones",
         "23",
         "Germany",
         "Standard",
         "404.84",
         "Romance",
         "2024-10-29"
        ],
        [
         "41",
         "42",
         "James Williams",
         "40",
         "Canada",
         "Premium",
         "610.93",
         "Romance",
         "2024-10-02"
        ],
        [
         "42",
         "43",
         "David Brown",
         "35",
         "Canada",
         "Premium",
         "834.96",
         "Documentary",
         "2024-06-08"
        ],
        [
         "43",
         "44",
         "Chris Garcia",
         "68",
         "Japan",
         "Basic",
         "145.66",
         "Documentary",
         "2024-04-12"
        ],
        [
         "44",
         "45",
         "Chris Jones",
         "50",
         "USA",
         "Basic",
         "370.08",
         "Action",
         "2024-03-30"
        ],
        [
         "45",
         "46",
         "John Johnson",
         "45",
         "India",
         "Standard",
         "474.83",
         "Drama",
         "2024-11-01"
        ],
        [
         "46",
         "47",
         "Sarah Smith",
         "16",
         "Brazil",
         "Premium",
         "321.21",
         "Documentary",
         "2024-04-13"
        ],
        [
         "47",
         "48",
         "Sarah Garcia",
         "40",
         "Australia",
         "Basic",
         "197.08",
         "Comedy",
         "2024-10-19"
        ],
        [
         "48",
         "49",
         "Michael Brown",
         "57",
         "Australia",
         "Premium",
         "420.58",
         "Sci-Fi",
         "2024-09-18"
        ],
        [
         "49",
         "50",
         "David Hernandez",
         "72",
         "Brazil",
         "Basic",
         "479.4",
         "Action",
         "2024-07-13"
        ]
       ],
       "shape": {
        "columns": 8,
        "rows": 25000
       }
      },
      "text/html": [
       "<div>\n",
       "<style scoped>\n",
       "    .dataframe tbody tr th:only-of-type {\n",
       "        vertical-align: middle;\n",
       "    }\n",
       "\n",
       "    .dataframe tbody tr th {\n",
       "        vertical-align: top;\n",
       "    }\n",
       "\n",
       "    .dataframe thead th {\n",
       "        text-align: right;\n",
       "    }\n",
       "</style>\n",
       "<table border=\"1\" class=\"dataframe\">\n",
       "  <thead>\n",
       "    <tr style=\"text-align: right;\">\n",
       "      <th></th>\n",
       "      <th>User_ID</th>\n",
       "      <th>Name</th>\n",
       "      <th>Age</th>\n",
       "      <th>Country</th>\n",
       "      <th>Subscription_Type</th>\n",
       "      <th>Watch_Time_Hours</th>\n",
       "      <th>Favorite_Genre</th>\n",
       "      <th>Last_Login</th>\n",
       "    </tr>\n",
       "  </thead>\n",
       "  <tbody>\n",
       "    <tr>\n",
       "      <th>0</th>\n",
       "      <td>1</td>\n",
       "      <td>James Martinez</td>\n",
       "      <td>18</td>\n",
       "      <td>France</td>\n",
       "      <td>Premium</td>\n",
       "      <td>80.26</td>\n",
       "      <td>Drama</td>\n",
       "      <td>2024-05-12</td>\n",
       "    </tr>\n",
       "    <tr>\n",
       "      <th>1</th>\n",
       "      <td>2</td>\n",
       "      <td>John Miller</td>\n",
       "      <td>23</td>\n",
       "      <td>USA</td>\n",
       "      <td>Premium</td>\n",
       "      <td>321.75</td>\n",
       "      <td>Sci-Fi</td>\n",
       "      <td>2025-02-05</td>\n",
       "    </tr>\n",
       "    <tr>\n",
       "      <th>2</th>\n",
       "      <td>3</td>\n",
       "      <td>Emma Davis</td>\n",
       "      <td>60</td>\n",
       "      <td>UK</td>\n",
       "      <td>Basic</td>\n",
       "      <td>35.89</td>\n",
       "      <td>Comedy</td>\n",
       "      <td>2025-01-24</td>\n",
       "    </tr>\n",
       "    <tr>\n",
       "      <th>3</th>\n",
       "      <td>4</td>\n",
       "      <td>Emma Miller</td>\n",
       "      <td>44</td>\n",
       "      <td>USA</td>\n",
       "      <td>Premium</td>\n",
       "      <td>261.56</td>\n",
       "      <td>Documentary</td>\n",
       "      <td>2024-03-25</td>\n",
       "    </tr>\n",
       "    <tr>\n",
       "      <th>4</th>\n",
       "      <td>5</td>\n",
       "      <td>Jane Smith</td>\n",
       "      <td>68</td>\n",
       "      <td>USA</td>\n",
       "      <td>Standard</td>\n",
       "      <td>909.30</td>\n",
       "      <td>Drama</td>\n",
       "      <td>2025-01-14</td>\n",
       "    </tr>\n",
       "    <tr>\n",
       "      <th>...</th>\n",
       "      <td>...</td>\n",
       "      <td>...</td>\n",
       "      <td>...</td>\n",
       "      <td>...</td>\n",
       "      <td>...</td>\n",
       "      <td>...</td>\n",
       "      <td>...</td>\n",
       "      <td>...</td>\n",
       "    </tr>\n",
       "    <tr>\n",
       "      <th>24995</th>\n",
       "      <td>24996</td>\n",
       "      <td>David Miller</td>\n",
       "      <td>18</td>\n",
       "      <td>Australia</td>\n",
       "      <td>Premium</td>\n",
       "      <td>183.88</td>\n",
       "      <td>Horror</td>\n",
       "      <td>2025-01-18</td>\n",
       "    </tr>\n",
       "    <tr>\n",
       "      <th>24996</th>\n",
       "      <td>24997</td>\n",
       "      <td>Jane Miller</td>\n",
       "      <td>17</td>\n",
       "      <td>USA</td>\n",
       "      <td>Premium</td>\n",
       "      <td>112.37</td>\n",
       "      <td>Drama</td>\n",
       "      <td>2024-06-29</td>\n",
       "    </tr>\n",
       "    <tr>\n",
       "      <th>24997</th>\n",
       "      <td>24998</td>\n",
       "      <td>Sarah Miller</td>\n",
       "      <td>14</td>\n",
       "      <td>USA</td>\n",
       "      <td>Premium</td>\n",
       "      <td>351.80</td>\n",
       "      <td>Action</td>\n",
       "      <td>2024-10-16</td>\n",
       "    </tr>\n",
       "    <tr>\n",
       "      <th>24998</th>\n",
       "      <td>24999</td>\n",
       "      <td>Michael Williams</td>\n",
       "      <td>71</td>\n",
       "      <td>USA</td>\n",
       "      <td>Basic</td>\n",
       "      <td>655.89</td>\n",
       "      <td>Action</td>\n",
       "      <td>2024-08-27</td>\n",
       "    </tr>\n",
       "    <tr>\n",
       "      <th>24999</th>\n",
       "      <td>25000</td>\n",
       "      <td>James Jones</td>\n",
       "      <td>19</td>\n",
       "      <td>Germany</td>\n",
       "      <td>Premium</td>\n",
       "      <td>207.06</td>\n",
       "      <td>Documentary</td>\n",
       "      <td>2024-04-12</td>\n",
       "    </tr>\n",
       "  </tbody>\n",
       "</table>\n",
       "<p>25000 rows × 8 columns</p>\n",
       "</div>"
      ],
      "text/plain": [
       "       User_ID              Name  Age    Country Subscription_Type  \\\n",
       "0            1    James Martinez   18     France           Premium   \n",
       "1            2       John Miller   23        USA           Premium   \n",
       "2            3        Emma Davis   60         UK             Basic   \n",
       "3            4       Emma Miller   44        USA           Premium   \n",
       "4            5        Jane Smith   68        USA          Standard   \n",
       "...        ...               ...  ...        ...               ...   \n",
       "24995    24996      David Miller   18  Australia           Premium   \n",
       "24996    24997       Jane Miller   17        USA           Premium   \n",
       "24997    24998      Sarah Miller   14        USA           Premium   \n",
       "24998    24999  Michael Williams   71        USA             Basic   \n",
       "24999    25000       James Jones   19    Germany           Premium   \n",
       "\n",
       "       Watch_Time_Hours Favorite_Genre  Last_Login  \n",
       "0                 80.26          Drama  2024-05-12  \n",
       "1                321.75         Sci-Fi  2025-02-05  \n",
       "2                 35.89         Comedy  2025-01-24  \n",
       "3                261.56    Documentary  2024-03-25  \n",
       "4                909.30          Drama  2025-01-14  \n",
       "...                 ...            ...         ...  \n",
       "24995            183.88         Horror  2025-01-18  \n",
       "24996            112.37          Drama  2024-06-29  \n",
       "24997            351.80         Action  2024-10-16  \n",
       "24998            655.89         Action  2024-08-27  \n",
       "24999            207.06    Documentary  2024-04-12  \n",
       "\n",
       "[25000 rows x 8 columns]"
      ]
     },
     "execution_count": 26,
     "metadata": {},
     "output_type": "execute_result"
    }
   ],
   "source": [
    "df"
   ]
  }
 ],
 "metadata": {
  "kernelspec": {
   "display_name": "Python 3",
   "language": "python",
   "name": "python3"
  },
  "language_info": {
   "codemirror_mode": {
    "name": "ipython",
    "version": 3
   },
   "file_extension": ".py",
   "mimetype": "text/x-python",
   "name": "python",
   "nbconvert_exporter": "python",
   "pygments_lexer": "ipython3",
   "version": "3.12.3"
  }
 },
 "nbformat": 4,
 "nbformat_minor": 2
}
